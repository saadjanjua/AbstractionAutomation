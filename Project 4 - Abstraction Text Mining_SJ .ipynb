{
 "cells": [
  {
   "cell_type": "markdown",
   "metadata": {},
   "source": [
    "# Abstraction Text Mining v1.2\n",
    "Name: Saad Janjua and Carolyne Gakuria\n",
    "Date: 9/25/2017\n"
   ]
  },
  {
   "cell_type": "markdown",
   "metadata": {},
   "source": [
    "# Import standard packages for Machine Learning\n",
    "\n",
    "## Imported packages and removed Deprecation Warnings.\n"
   ]
  },
  {
   "cell_type": "code",
   "execution_count": 1,
   "metadata": {
    "collapsed": false
   },
   "outputs": [
    {
     "name": "stdout",
     "output_type": "stream",
     "text": [
      "showing info https://raw.githubusercontent.com/nltk/nltk_data/gh-pages/index.xml\n"
     ]
    },
    {
     "data": {
      "text/plain": [
       "'C:\\\\Users\\\\janjuas\\\\Desktop'"
      ]
     },
     "execution_count": 1,
     "metadata": {},
     "output_type": "execute_result"
    }
   ],
   "source": [
    "#Add packages\n",
    "# import module(s) into namespace\n",
    "import pandas as pd   #we almost always need pandas because we like data frames\n",
    "from bs4 import BeautifulSoup\n",
    "import requests\n",
    "import numpy as np\n",
    "import nltk \n",
    "nltk.download()\n",
    "from nltk import word_tokenize, pos_tag, ne_chunk\n",
    "pd.set_option('display.max_colwidth', 150000) #important for getting all the text\n",
    "import os\n",
    "os.getcwd()\n",
    "import warnings\n",
    "\n",
    "def fxn():\n",
    "    warnings.warn(\"deprecated\", DeprecationWarning)\n",
    "\n",
    "with warnings.catch_warnings():\n",
    "    warnings.simplefilter(\"ignore\")\n",
    "    fxn()\n",
    "from sklearn.feature_extraction.text import CountVectorizer\n",
    "import math\n",
    "import PyPDF2 \n",
    "from os.path import isfile, join\n",
    "import sqlite3\n",
    "import glob\n",
    "import re\n",
    "import os\n",
    "%pwd"
   ]
  },
  {
   "cell_type": "markdown",
   "metadata": {},
   "source": [
    "# Change Directory to where my project is located"
   ]
  },
  {
   "cell_type": "code",
   "execution_count": 2,
   "metadata": {
    "collapsed": false
   },
   "outputs": [
    {
     "name": "stdout",
     "output_type": "stream",
     "text": [
      "O:\\library\\QM\\PHI11\\Dedicated\\Quality_Improvement\\Saad\\SDS Abstraction Study\n"
     ]
    }
   ],
   "source": [
    "cd O:\\\\library\\\\QM\\\\PHI11\\\\Dedicated\\\\Quality_Improvement\\\\Saad\\\\SDS Abstraction Study\\\\"
   ]
  },
  {
   "cell_type": "markdown",
   "metadata": {},
   "source": [
    "## Read in a CSV file and Set working directories. "
   ]
  },
  {
   "cell_type": "code",
   "execution_count": 15,
   "metadata": {
    "collapsed": false
   },
   "outputs": [
    {
     "name": "stderr",
     "output_type": "stream",
     "text": [
      "DtypeWarning: Columns (20) have mixed types. Specify dtype option on import or set low_memory=False. [interactiveshell.py:2717]\n"
     ]
    },
    {
     "name": "stdout",
     "output_type": "stream",
     "text": [
      "Shape of Data (378670, 24)\n",
      "Colums Names Index(['MeasureName', 'UniversalMemberID', 'MemberID', 'ProductID', 'DOB',\n",
      "       'MBR_FULL_NM', 'PROV_ID', 'PROV_NM', 'PROV_REL_GRP_PROV_ID',\n",
      "       'PROV_REL_GRP_PROV_NM', 'MED_HOME_GRP_ID', 'Eligible(Admin)',\n",
      "       'Num(Admin)', 'MED_HOME_LOC_ID', 'MED_HOME_LOC_DESC',\n",
      "       'MBR_HOME_ADDR_LN_1', 'MBR_HOME_ADDR_LN_2', 'MBR_HOME_ADDR_CITY_NM',\n",
      "       'MBR_HOME_ADDR_ST_CD', 'MBR_HOME_ADDR_ZIP_CD_5', 'MBR_HOME_ADDR_PHN_NO',\n",
      "       'MaxOfMBR_FIRST_NM', 'MaxOfMBR_MIDINIT', 'MaxOfMBR_LAST_NM'],\n",
      "      dtype='object')\n"
     ]
    },
    {
     "data": {
      "text/html": [
       "<div>\n",
       "<table border=\"1\" class=\"dataframe\">\n",
       "  <thead>\n",
       "    <tr style=\"text-align: right;\">\n",
       "      <th></th>\n",
       "      <th>MeasureName</th>\n",
       "      <th>UniversalMemberID</th>\n",
       "      <th>MemberID</th>\n",
       "      <th>ProductID</th>\n",
       "      <th>DOB</th>\n",
       "      <th>MBR_FULL_NM</th>\n",
       "      <th>PROV_ID</th>\n",
       "      <th>PROV_NM</th>\n",
       "      <th>PROV_REL_GRP_PROV_ID</th>\n",
       "      <th>PROV_REL_GRP_PROV_NM</th>\n",
       "      <th>...</th>\n",
       "      <th>MED_HOME_LOC_DESC</th>\n",
       "      <th>MBR_HOME_ADDR_LN_1</th>\n",
       "      <th>MBR_HOME_ADDR_LN_2</th>\n",
       "      <th>MBR_HOME_ADDR_CITY_NM</th>\n",
       "      <th>MBR_HOME_ADDR_ST_CD</th>\n",
       "      <th>MBR_HOME_ADDR_ZIP_CD_5</th>\n",
       "      <th>MBR_HOME_ADDR_PHN_NO</th>\n",
       "      <th>MaxOfMBR_FIRST_NM</th>\n",
       "      <th>MaxOfMBR_MIDINIT</th>\n",
       "      <th>MaxOfMBR_LAST_NM</th>\n",
       "    </tr>\n",
       "  </thead>\n",
       "  <tbody>\n",
       "    <tr>\n",
       "      <th>0</th>\n",
       "      <td>Adolescent Well Care Visits</td>\n",
       "      <td>10000011234</td>\n",
       "      <td>05K50237901</td>\n",
       "      <td>PCB</td>\n",
       "      <td>7/1/2002</td>\n",
       "      <td>DEHN, AARON E</td>\n",
       "      <td>13958121</td>\n",
       "      <td>SINGH, DALJEET</td>\n",
       "      <td>27553031</td>\n",
       "      <td>LEXINGTON MEDICAL CLINIC</td>\n",
       "      <td>...</td>\n",
       "      <td>NaN</td>\n",
       "      <td>8997 HWY FF</td>\n",
       "      <td>NaN</td>\n",
       "      <td>WELLINGTON</td>\n",
       "      <td>MO</td>\n",
       "      <td>64097</td>\n",
       "      <td>8167197498</td>\n",
       "      <td>AARON</td>\n",
       "      <td>E</td>\n",
       "      <td>DEHN</td>\n",
       "    </tr>\n",
       "    <tr>\n",
       "      <th>1</th>\n",
       "      <td>Adolescent Well Care Visits</td>\n",
       "      <td>10000013926</td>\n",
       "      <td>05K58888901</td>\n",
       "      <td>BCARE</td>\n",
       "      <td>2/10/1996</td>\n",
       "      <td>HIGHTOWER BLANKS, CAMERON A</td>\n",
       "      <td>NaN</td>\n",
       "      <td>NaN</td>\n",
       "      <td>NaN</td>\n",
       "      <td>NaN</td>\n",
       "      <td>...</td>\n",
       "      <td>NaN</td>\n",
       "      <td>4327 STERLING AVENUE</td>\n",
       "      <td>NaN</td>\n",
       "      <td>KANSAS CITY</td>\n",
       "      <td>MO</td>\n",
       "      <td>64133</td>\n",
       "      <td>8167651775</td>\n",
       "      <td>CAMERON</td>\n",
       "      <td>A</td>\n",
       "      <td>HIGHTOWER BLANKS</td>\n",
       "    </tr>\n",
       "  </tbody>\n",
       "</table>\n",
       "<p>2 rows × 24 columns</p>\n",
       "</div>"
      ],
      "text/plain": [
       "                   MeasureName  UniversalMemberID     MemberID ProductID  \\\n",
       "0  Adolescent Well Care Visits        10000011234  05K50237901       PCB   \n",
       "1  Adolescent Well Care Visits        10000013926  05K58888901     BCARE   \n",
       "\n",
       "         DOB                  MBR_FULL_NM   PROV_ID         PROV_NM  \\\n",
       "0   7/1/2002                DEHN, AARON E  13958121  SINGH, DALJEET   \n",
       "1  2/10/1996  HIGHTOWER BLANKS, CAMERON A       NaN             NaN   \n",
       "\n",
       "  PROV_REL_GRP_PROV_ID      PROV_REL_GRP_PROV_NM        ...         \\\n",
       "0             27553031  LEXINGTON MEDICAL CLINIC        ...          \n",
       "1                  NaN                       NaN        ...          \n",
       "\n",
       "  MED_HOME_LOC_DESC    MBR_HOME_ADDR_LN_1 MBR_HOME_ADDR_LN_2  \\\n",
       "0               NaN           8997 HWY FF                NaN   \n",
       "1               NaN  4327 STERLING AVENUE                NaN   \n",
       "\n",
       "  MBR_HOME_ADDR_CITY_NM MBR_HOME_ADDR_ST_CD MBR_HOME_ADDR_ZIP_CD_5  \\\n",
       "0            WELLINGTON                  MO                  64097   \n",
       "1           KANSAS CITY                  MO                  64133   \n",
       "\n",
       "  MBR_HOME_ADDR_PHN_NO MaxOfMBR_FIRST_NM MaxOfMBR_MIDINIT  MaxOfMBR_LAST_NM  \n",
       "0           8167197498             AARON                E              DEHN  \n",
       "1           8167651775           CAMERON                A  HIGHTOWER BLANKS  \n",
       "\n",
       "[2 rows x 24 columns]"
      ]
     },
     "execution_count": 15,
     "metadata": {},
     "output_type": "execute_result"
    }
   ],
   "source": [
    "SDS = pd.read_csv(\"SDS DataSet\\\\Tbl_2000_Member Names.csv\", sep=\",\")\n",
    "#Dimensions of dataset\n",
    "print(\"Shape of Data\", SDS.shape)\n",
    "#Colum names\n",
    "print(\"Colums Names\", SDS.columns)\n",
    "#See top few rows of dataset\n",
    "SDS_DF = pd.DataFrame(SDS)\n",
    "SDS_DF.head(2)"
   ]
  },
  {
   "cell_type": "code",
   "execution_count": 4,
   "metadata": {
    "collapsed": false
   },
   "outputs": [],
   "source": [
    "\"\"\"If running locally, set these variables to your local directories.\"\"\"\n",
    "pdf_dir = \"O:\\\\library\\\\QM\\\\PHI11\\\\Dedicated\\\\Quality_Improvement\\\\Saad\\\\SDS Abstraction Study\\\\Raw\\\\\"\n",
    "txt_dir = \"O:\\\\library\\\\QM\\\\PHI11\\\\Dedicated\\\\Quality_Improvement\\\\Saad\\\\SDS Abstraction Study\\\\Processed\\\\\""
   ]
  },
  {
   "cell_type": "code",
   "execution_count": 5,
   "metadata": {
    "collapsed": true
   },
   "outputs": [],
   "source": [
    "\"\"\"Note: Uses a generator expression.Rerun the cell if you restart the loop below.\"\"\"\n",
    "corpus = (f for f in os.listdir(pdf_dir) if not f.startswith('.') and isfile(join(pdf_dir, f)))"
   ]
  },
  {
   "cell_type": "code",
   "execution_count": 6,
   "metadata": {
    "collapsed": false
   },
   "outputs": [],
   "source": [
    "\"\"\"The documentation for PyPDF2 is minimal. \n",
    "For this pattern, I followed the syntax at \n",
    "https://automatetheboringstuff.com/chapter13/ and\n",
    "https://github.com/msaxton/iliff_review/blob/master/code/atla_pdfConvert.py\n",
    "\"\"\"\n",
    "\n",
    "\n",
    "'''This module converts PDF files from ATLASerials into plain text files. An important part of\n",
    "this process is striping out the ATLA statment at the end of the PDF. In addition PyPDF tends\n",
    "to read an - as Š;'''\n",
    "\n",
    "def clean_text(string_obj):\n",
    "    clean_text = re.sub(\"Š\", \"-\", string_obj)\n",
    "    clean_text = re.sub(\"¿|¡|£|^|`|«|Ł\", \"\", clean_text)\n",
    "    clean_text = re.sub(\"Á|Â|Ã|Ä|Å|à|á|â|ã|ä|å\", \"a\", clean_text)\n",
    "    clean_text = re.sub(\"È|É|Ê|Ë|è|é|ê|ë\", \"e\", clean_text)\n",
    "    clean_text = re.sub(\"Ì|Í|Î|Ï|ì|í|î|ï\", \"i\", clean_text)\n",
    "    clean_text = re.sub(\"Ò|Ó|Ô|Õ|Ö|Ø|ò|ó|ô|õ|ö|ø\", \"o\", clean_text)\n",
    "    clean_text = re.sub(\"Ù|Ú|Û|Ü|ù|ú|û|ü\", \"u\", clean_text)\n",
    "    clean_text = re.sub(\"Ý|ý|ÿ\", \"y\", clean_text)\n",
    "    return clean_text\n",
    "\n",
    "\n",
    "\n",
    "for filename in corpus:\n",
    "    # Open the PDF and load as PyPDF2 Reader object.\n",
    "    pdf = open(join(pdf_dir, \"CombinedFiles.pdf\"),'rb')\n",
    "    pdfReader = PyPDF2.PdfFileReader(pdf)\n",
    "    \n",
    "    \n",
    "    # Loop through the pages, extract the text, and write each page to individual file.\n",
    "    for page in range(0, pdfReader.numPages):\n",
    "        pageObj = pdfReader.getPage(page)\n",
    "        text = clean_text(pageObj.extractText())\n",
    "        \n",
    "        # Compile the page name. Add one because Python counts from 0.\n",
    "        page_name = \"{}-pg{}.txt\".format(filename[:-4], page+1)\n",
    "\n",
    "        # Write to each page to file\n",
    "        with open(join(txt_dir, page_name), mode=\"w\", encoding='utf-8') as o:\n",
    "            o.write(text)"
   ]
  },
  {
   "cell_type": "code",
   "execution_count": 7,
   "metadata": {
    "collapsed": false
   },
   "outputs": [
    {
     "data": {
      "text/html": [
       "<div>\n",
       "<table border=\"1\" class=\"dataframe\">\n",
       "  <thead>\n",
       "    <tr style=\"text-align: right;\">\n",
       "      <th></th>\n",
       "      <th>ChartText</th>\n",
       "      <th>Page</th>\n",
       "    </tr>\n",
       "  </thead>\n",
       "  <tbody>\n",
       "    <tr>\n",
       "      <th>0</th>\n",
       "      <td>8/8/2017 3:14 PM FROM: Fax Lees Summit Physicians Intemal Medicine TO: +1 (816) 995-1593 PAGE: 001 OF 018               To: User Entered Recipient Fax number: +1 (816) 995-1593 From: Johnson, Wendy Fax number: (816)525-2697 Business phone: (816)554-1918 Home phone: Date &amp; Time: 8/8/201731445 PM Pages: 18 Re: Lees Summit Physicians Internal Medicine 1425 NW Blue Parkway LEES SUMMIT, MO 64086 SUPPORTING DOCUMENTATION FOR HEMOGLOBINA1C WENDY 816-524*3223 XT 136</td>\n",
       "      <td>1</td>\n",
       "    </tr>\n",
       "    <tr>\n",
       "      <th>1</th>\n",
       "      <td>8/8/2017 3:14 PM FROM: Fax Lees Summit Physicians Intemal Medicine TO: +1 (816) 995-1593 PAGE: 002 OF 018 Lees Summit Physicians Group, Inc. 1425 NW Blue Pky. Lees Summit, MO 64086-5705 (816)524-5600 I Fax: (816)525-2697 Plltient DOB: Sex: MRN: Ordering Description 3232 Hemoglobin A1C with eAG 3230 -Hemoglobin A1C EGAN,AMYM 412611977 Femlile-F EGAAMY0002 ROBS, EMit Y G 7295· Estimated Average Glucose Order Results lab Order Clinical Order II: Report Date: Observation Date: Received Date: Out-ot-Range In-Range 5,5 111 Test performed by Laboratory Corporation of America Holdings 7800 West l10th St. Overland Park, KS 66210 AMY MEGAN DOB 04/2611977 Printed On 07/28f2017 -10:16 AM 5933099 ZZZZZOD5SZ Tue 021071201717:12:51 Tue 0210712017 Tue 021071201718:28:03 Units Expected Flag Status % mg/dl 4,0-6,0 F F F</td>\n",
       "      <td>2</td>\n",
       "    </tr>\n",
       "  </tbody>\n",
       "</table>\n",
       "</div>"
      ],
      "text/plain": [
       "                                                                                                                                                                                                                                                                                                                                                                                                                                                                                                                                                                                                                                                                                                                                                                                                                                        ChartText  \\\n",
       "0                                                                                                                                                                                                                                                                                                                                                                 8/8/2017 3:14 PM FROM: Fax Lees Summit Physicians Intemal Medicine TO: +1 (816) 995-1593 PAGE: 001 OF 018               To: User Entered Recipient Fax number: +1 (816) 995-1593 From: Johnson, Wendy Fax number: (816)525-2697 Business phone: (816)554-1918 Home phone: Date & Time: 8/8/201731445 PM Pages: 18 Re: Lees Summit Physicians Internal Medicine 1425 NW Blue Parkway LEES SUMMIT, MO 64086 SUPPORTING DOCUMENTATION FOR HEMOGLOBINA1C WENDY 816-524*3223 XT 136    \n",
       "1  8/8/2017 3:14 PM FROM: Fax Lees Summit Physicians Intemal Medicine TO: +1 (816) 995-1593 PAGE: 002 OF 018 Lees Summit Physicians Group, Inc. 1425 NW Blue Pky. Lees Summit, MO 64086-5705 (816)524-5600 I Fax: (816)525-2697 Plltient DOB: Sex: MRN: Ordering Description 3232 Hemoglobin A1C with eAG 3230 -Hemoglobin A1C EGAN,AMYM 412611977 Femlile-F EGAAMY0002 ROBS, EMit Y G 7295· Estimated Average Glucose Order Results lab Order Clinical Order II: Report Date: Observation Date: Received Date: Out-ot-Range In-Range 5,5 111 Test performed by Laboratory Corporation of America Holdings 7800 West l10th St. Overland Park, KS 66210 AMY MEGAN DOB 04/2611977 Printed On 07/28f2017 -10:16 AM 5933099 ZZZZZOD5SZ Tue 021071201717:12:51 Tue 0210712017 Tue 021071201718:28:03 Units Expected Flag Status % mg/dl 4,0-6,0 F F F    \n",
       "\n",
       "   Page  \n",
       "0     1  \n",
       "1     2  "
      ]
     },
     "execution_count": 7,
     "metadata": {},
     "output_type": "execute_result"
    }
   ],
   "source": [
    "           \n",
    "file_list = glob.glob(os.path.join(os.getcwd(), \"O:\\\\library\\\\QM\\\\PHI11\\\\Dedicated\\\\Quality_Improvement\\\\Saad\\\\SDS Abstraction Study\\\\Processed\\\\\", \"*.txt\"))\n",
    "\n",
    "corpus = []\n",
    "\n",
    "for file_path in file_list:\n",
    "    with open(file_path, encoding='utf-8') as f_input:\n",
    "        corpus.append(f_input.read())\n",
    "        \n",
    "df = pd.DataFrame.from_dict(corpus)\n",
    "df.columns = ['ChartText']\n",
    "df['Page'] = df.index+1\n",
    "df.head(2)"
   ]
  },
  {
   "cell_type": "code",
   "execution_count": 13,
   "metadata": {
    "collapsed": false
   },
   "outputs": [],
   "source": [
    "# Connect to SQLlite database called db_Abstraction.db\n",
    "conn = sqlite3.connect(\"db_Abstraction.db\")\n",
    "cur = conn.cursor()\n",
    "database='db_Abstraction.db'\n",
    "# Write records stored in a DataFrame to a SQL database as df_NEW and \n",
    "df.to_sql(\"df_NEW\", conn, if_exists=\"replace\")\n",
    "SDS_DF.to_sql(\"SDS_DF\", conn,if_exists=\"replace\")\n",
    "# Check for \"?\" in DataSet \n",
    "#pd.read_sql_query(\"select * from df_NEW;\"   , conn)\n",
    "pd.read_sql_query(\"select * from SDS_DF;\"   , conn)\n",
    "# Create DF for df_NEW\n",
    "DF_NEW = pd.read_sql_query(\"select ChartText,page, CASE WHEN  ChartText  like '%Hemoglobin%' OR ChartText  like '%A1C%' OR ChartText  like '%A 1C' THEN 'yes' ELSE NULL END AS HBA1C_IN from df_NEW;\", conn)\n",
    "SDS_DF_NEW = pd.read_sql_query(\"select DOB,MBR_FULL_NM from SDS_DF WHERE MeasureName in('HbA1c Poor Control - >9','HbA1c Poor Control - No Value', 'HbA1c Testing') AND [Num(Admin)] ='Non-Compliant';\", conn)"
   ]
  },
  {
   "cell_type": "code",
   "execution_count": null,
   "metadata": {
    "collapsed": false
   },
   "outputs": [],
   "source": [
    "SDS_DF_NEW"
   ]
  },
  {
   "cell_type": "code",
   "execution_count": null,
   "metadata": {
    "collapsed": false
   },
   "outputs": [],
   "source": [
    "DF_NEW"
   ]
  },
  {
   "cell_type": "markdown",
   "metadata": {},
   "source": [
    "# Named Entity Recognition"
   ]
  },
  {
   "cell_type": "code",
   "execution_count": null,
   "metadata": {
    "collapsed": true
   },
   "outputs": [],
   "source": [
    "http://nlpforhackers.io/named-entity-extraction/"
   ]
  },
  {
   "cell_type": "code",
   "execution_count": null,
   "metadata": {
    "collapsed": true
   },
   "outputs": [],
   "source": []
  },
  {
   "cell_type": "code",
   "execution_count": null,
   "metadata": {
    "collapsed": true
   },
   "outputs": [],
   "source": []
  },
  {
   "cell_type": "markdown",
   "metadata": {},
   "source": [
    "## OCR Snippet"
   ]
  },
  {
   "cell_type": "code",
   "execution_count": 148,
   "metadata": {
    "collapsed": false
   },
   "outputs": [],
   "source": [
    "#open allows you to read the file\n",
    "pdfFileObj = open(\"CombinedFiles.pdf\",'rb')\n",
    "pdfReader = PyPDF2.PdfFileReader(pdfFileObj)\n",
    "\n",
    "num_pages = pdfReader.numPages\n",
    "count = 0\n",
    "text = \"\"\n",
    "#The while loop will read each page\n",
    "while count < num_pages:\n",
    "    pageObj = pdfReader.getPage(count)\n",
    "    count +=1\n",
    "    text += pageObj.extractText()\n",
    "#This if statement exists to check if the above library returned #words. It's done because PyPDF2 cannot read scanned files.\n",
    "if text != \"\":\n",
    "   text = text\n",
    "#If the above returns as False, we run the OCR library textract to #convert scanned/image based PDF files into text\n",
    "else:\n",
    "   text = textract.process(fileurl, method='tesseract', language='eng')\n",
    "# Now we have a text variable which contains all the text derived #from our PDF file. Type print(text) to see what it contains. It #likely contains a lot of spaces, possibly junk such as '\\n' etc.\n",
    "# Now, we will clean our text variable, and return it as a list of keywords."
   ]
  },
  {
   "cell_type": "code",
   "execution_count": null,
   "metadata": {
    "collapsed": true
   },
   "outputs": [],
   "source": []
  },
  {
   "cell_type": "code",
   "execution_count": null,
   "metadata": {
    "collapsed": true
   },
   "outputs": [],
   "source": []
  },
  {
   "cell_type": "code",
   "execution_count": null,
   "metadata": {
    "collapsed": true
   },
   "outputs": [],
   "source": []
  },
  {
   "cell_type": "code",
   "execution_count": null,
   "metadata": {
    "collapsed": true
   },
   "outputs": [],
   "source": []
  },
  {
   "cell_type": "code",
   "execution_count": null,
   "metadata": {
    "collapsed": true
   },
   "outputs": [],
   "source": []
  },
  {
   "cell_type": "code",
   "execution_count": null,
   "metadata": {
    "collapsed": true
   },
   "outputs": [],
   "source": []
  },
  {
   "cell_type": "code",
   "execution_count": null,
   "metadata": {
    "collapsed": true
   },
   "outputs": [],
   "source": []
  },
  {
   "cell_type": "code",
   "execution_count": null,
   "metadata": {
    "collapsed": true
   },
   "outputs": [],
   "source": []
  },
  {
   "cell_type": "code",
   "execution_count": null,
   "metadata": {
    "collapsed": true
   },
   "outputs": [],
   "source": []
  },
  {
   "cell_type": "code",
   "execution_count": null,
   "metadata": {
    "collapsed": true
   },
   "outputs": [],
   "source": []
  },
  {
   "cell_type": "code",
   "execution_count": null,
   "metadata": {
    "collapsed": true
   },
   "outputs": [],
   "source": []
  },
  {
   "cell_type": "code",
   "execution_count": null,
   "metadata": {
    "collapsed": true
   },
   "outputs": [],
   "source": []
  },
  {
   "cell_type": "code",
   "execution_count": null,
   "metadata": {
    "collapsed": true
   },
   "outputs": [],
   "source": []
  },
  {
   "cell_type": "code",
   "execution_count": null,
   "metadata": {
    "collapsed": true
   },
   "outputs": [],
   "source": []
  },
  {
   "cell_type": "code",
   "execution_count": null,
   "metadata": {
    "collapsed": true
   },
   "outputs": [],
   "source": []
  },
  {
   "cell_type": "code",
   "execution_count": null,
   "metadata": {
    "collapsed": true
   },
   "outputs": [],
   "source": []
  },
  {
   "cell_type": "code",
   "execution_count": null,
   "metadata": {
    "collapsed": true
   },
   "outputs": [],
   "source": []
  }
 ],
 "metadata": {
  "anaconda-cloud": {},
  "kernelspec": {
   "display_name": "Python 3",
   "language": "python",
   "name": "python3"
  },
  "language_info": {
   "codemirror_mode": {
    "name": "ipython",
    "version": 3
   },
   "file_extension": ".py",
   "mimetype": "text/x-python",
   "name": "python",
   "nbconvert_exporter": "python",
   "pygments_lexer": "ipython3",
   "version": "3.6.0"
  }
 },
 "nbformat": 4,
 "nbformat_minor": 0
}
