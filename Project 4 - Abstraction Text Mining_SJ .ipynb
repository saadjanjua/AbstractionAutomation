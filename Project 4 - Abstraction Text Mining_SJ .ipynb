{
 "cells": [
  {
   "cell_type": "markdown",
   "metadata": {},
   "source": [
    "# Abstraction Text Mining v1.1\n",
    "Name: Saad Janjua and Carolyne Gakuria\n",
    "Date: 9/14/2017\n"
   ]
  },
  {
   "cell_type": "markdown",
   "metadata": {},
   "source": [
    "# Import standard packages for Machine Learning\n",
    "\n",
    "## Imported packages and removed Deprecation Warnings.\n"
   ]
  },
  {
   "cell_type": "code",
   "execution_count": 5,
   "metadata": {},
   "outputs": [
    {
     "name": "stdout",
     "output_type": "stream",
     "text": [
      "showing info https://raw.githubusercontent.com/nltk/nltk_data/gh-pages/index.xml\n"
     ]
    },
    {
     "data": {
      "text/plain": [
       "'C:\\\\Users\\\\SJ\\\\Documents\\\\GitHub\\\\BIA 6304\\\\Project\\\\Raw'"
      ]
     },
     "execution_count": 5,
     "metadata": {},
     "output_type": "execute_result"
    }
   ],
   "source": [
    "#Add packages\n",
    "# import module(s) into namespace\n",
    "import pandas as pd   #we almost always need pandas because we like data frames\n",
    "from bs4 import BeautifulSoup\n",
    "import requests\n",
    "import numpy as np\n",
    "import nltk \n",
    "nltk.download()\n",
    "pd.set_option('display.max_colwidth', 150000) #important for getting all the text\n",
    "import os\n",
    "os.getcwd()\n",
    "import warnings\n",
    "\n",
    "def fxn():\n",
    "    warnings.warn(\"deprecated\", DeprecationWarning)\n",
    "\n",
    "with warnings.catch_warnings():\n",
    "    warnings.simplefilter(\"ignore\")\n",
    "    fxn()\n",
    "from sklearn.feature_extraction.text import CountVectorizer\n",
    "import math\n",
    "import PyPDF2\n",
    "from os.path import isfile, join\n",
    "import sqlite3\n",
    "import glob\n",
    "import os\n",
    "%pwd"
   ]
  },
  {
   "cell_type": "code",
   "execution_count": 6,
   "metadata": {},
   "outputs": [
    {
     "name": "stdout",
     "output_type": "stream",
     "text": [
      "C:\\Users\\SJ\\Documents\\GitHub\\BIA 6304\\Project\\Raw\n"
     ]
    }
   ],
   "source": [
    "cd C:\\\\Users\\\\SJ\\\\Documents\\\\GitHub\\\\BIA 6304\\\\Project\\\\Raw\\\\"
   ]
  },
  {
   "cell_type": "code",
   "execution_count": 7,
   "metadata": {
    "collapsed": true
   },
   "outputs": [],
   "source": [
    "\"\"\"If running locally, set these variables to your local directories.\n",
    "\"\"\"\n",
    "pdf_dir = \"C:\\\\Users\\\\SJ\\\\Documents\\\\GitHub\\\\BIA 6304\\\\Project\\\\Raw\\\\\"\n",
    "txt_dir = \"C:\\\\Users\\\\SJ\\\\Documents\\\\GitHub\\\\BIA 6304\\\\Project\\\\Processed\\\\\""
   ]
  },
  {
   "cell_type": "code",
   "execution_count": 19,
   "metadata": {
    "collapsed": true
   },
   "outputs": [],
   "source": [
    "\"\"\"Note: Uses a generator expression.\n",
    "Rerun the cell if you restart the loop below.\n",
    "\"\"\"\n",
    "corpus = (f for f in os.listdir(pdf_dir) if not f.startswith('.') and isfile(join(pdf_dir, f)))\n"
   ]
  },
  {
   "cell_type": "code",
   "execution_count": 20,
   "metadata": {},
   "outputs": [
    {
     "data": {
      "text/html": [
       "<div>\n",
       "<style>\n",
       "    .dataframe thead tr:only-child th {\n",
       "        text-align: right;\n",
       "    }\n",
       "\n",
       "    .dataframe thead th {\n",
       "        text-align: left;\n",
       "    }\n",
       "\n",
       "    .dataframe tbody tr th {\n",
       "        vertical-align: top;\n",
       "    }\n",
       "</style>\n",
       "<table border=\"1\" class=\"dataframe\">\n",
       "  <thead>\n",
       "    <tr style=\"text-align: right;\">\n",
       "      <th></th>\n",
       "      <th>ChartText</th>\n",
       "      <th>Page</th>\n",
       "    </tr>\n",
       "  </thead>\n",
       "  <tbody>\n",
       "    <tr>\n",
       "      <th>0</th>\n",
       "      <td>ABasicCourseintheTheoryofInterestand\\nDerivativesMarkets:\\nAPreparationfortheActuarialExamFM/2\\nMarcelB.Finan\\nArkansasTechUniversity\\nc\\n\\nAllRightsReserved\\nPreliminaryDraft\\nLastupdated\\nMarch24,2017\\n</td>\n",
       "      <td>1</td>\n",
       "    </tr>\n",
       "    <tr>\n",
       "      <th>1</th>\n",
       "      <td>10\\nTHEBASICSOFINTERESTTHEORY\\n1TheMeaningofInterest\\nToanalyzetransactions,aclearunderstandingoftheconceptof\\ninterestisrequired.Interestcanbeinavarietyofcontexts,suchas\\ntheonesfoundindictionariesandencyclopedias.Inthemostcommoncon-\\ntext,\\ninterest\\nisanamountchargedtoaborrowerfortheuseofthelender's\\nmoneyoveraperiodoftime.Forexample,ifyouhaveborrowed$100and\\nyoupromisedtopayback$105afteroneyearthenthelenderinthiscase\\nismakingaof$5,whichisthefeeforborrowinghismoney.Looking\\natthisfromthelender'sperspective,themoneythelenderisinvestingis\\nchangingvaluewithtimeduetotheinterestbeingadded.Forthatreason,\\ninterestissometimesreferredtoasthe\\ntimevalueofmoney.\\nInterestproblemsgenerallyinvolvefourquantities:principal(s),investment\\nperiodlength(s),interestrate(s),amountvalue(s).\\nThemoneyinvestedintransactionswillbereferredtoasthe\\nprin-\\ncipal\\n,denotedby\\nP:\\nTheamountithasgrowntowillbecalledthe\\namount\\nvalue\\nandwillbedenotedby\\nA:\\nTheerence\\nI\\n=\\nA\\n\\nP\\nisthe\\namount\\nofinterest\\nearnedduringtheperiodofinvestment.Interestexpressedasa\\npercentoftheprincipalwillbereferredtoasan\\ninterestrate.\\nInteresttakesintoaccounttheriskofdefault(riskthattheborrowercan't\\npaybacktheloan).Theriskofdefaultcanbereducediftheborrowers\\npromisetoreleaseanassetoftheirsintheeventoftheirdefault(theassetis\\ncalled\\ncollateral\\n).\\nTheunitinwhichtimeofinvestmentismeasurediscalledthe\\nmeasure-\\nmentperiod\\n.Themostcommonmeasurementperiodisoneyearbutmay\\nbelongerorshorter(couldbedays,months,years,decades,etc.).\\nExample1.1\\nWhichofthefollowingmaytheitionofinterest?\\n(a)TheamountIoweonmycreditcard.\\n(b)Theamountofcreditremainingonmycreditcard.\\n(c)Thecostofborrowingmoneyforsomeperiodoftime.\\n(d)Afeechargedonthemoneyyou'veearnedbytheFederalgovernment.\\nSolution.\\nTheansweris(c)\\nExample1.2\\nLet\\nA\\n(\\nt\\n)denotetheamountvalueofaninvestmentattime\\nt\\nyears.\\n</td>\n",
       "      <td>2</td>\n",
       "    </tr>\n",
       "    <tr>\n",
       "      <th>2</th>\n",
       "      <td>100\\nTHEBASICSOFINTERESTTHEORY\\nProblem10.15\\nz\\nTawnymakesadepositintoabankaccountwhichcreditsinterestatanom-\\ninalinterestrateof10%perannum,convertiblesemiannually.Atthesame\\ntime,Fabiodeposits1,000intoatbankaccount,whichiscredited\\nwithsimpleinterest.Attheendof5years,theforcesofinterestonthetwo\\naccountsareequal,andFabio'saccounthasaccumulatedto\\nZ:\\nDetermine\\nZ:\\nProblem10.16\\nFund\\nA\\nearnsinterestatanominalrateofinterestof12%compounded\\nquarterly.Fund\\nB\\nearnsinterestataforceofinterest\\n:\\nJohninvested$1,000\\nineachfundeyearsago.Today,theamountinFund\\nA\\nisequaltothe\\namountinFund\\nB:\\nCalculate\\n:\\nProblem10.17\\nAfundearnsinterestataforceofinterestof\\n\\n=0\\n:\\n01\\nt:\\nCalculatethevalue\\nattheendof10yearsof8,000investedattheendof5years.\\nProblem10.18\\nAfundearnsinterestataforceofinterestof\\n\\n=0\\n:\\n01\\nt:\\nCalculatethee\\nrateofinterestinthe10thyear.\\nProblem10.19\\nCalculatethectiveannualinterestrateequivalenttoanominalrateof\\ndiscountof6%compoundedcontinuously.\\nProblem10.20\\nFund\\nA\\naccumulatesatasimpleinterestrateof10%.Find\\nB\\naccumulates\\natasimplediscountrateof5%.Findthepointintimeatwhichtheforceof\\ninterestonthetwofundsareequal.\\nProblem10.21\\nAninvestmentismadeforoneyearinafundwith\\na\\n(\\nt\\n)=\\na\\n+\\nbt\\n+\\nct\\n2\\n:\\nThenominalrateofinterestearnedduringthehalfoftheyearis5%\\nconvertiblesemi-annually.Theerateofinterestearnedfortheentire\\nyearis7%.Find\\n\\n0\\n:\\n5\\n:\\nProblem10.22\\nIf\\na\\n(\\nt\\n)=1+\\n:\\n01(\\nt\\n2\\n+\\nt\\n)\\n;\\ncalculate\\n\\n5\\n:\\n</td>\n",
       "      <td>3</td>\n",
       "    </tr>\n",
       "    <tr>\n",
       "      <th>3</th>\n",
       "      <td>10FORCEOFINTEREST:CONTINUOUSCOMPOUNDING\\n101\\nProblem10.23\\nYouaregiventhat\\n\\n=0\\n:\\n05\\n:\\nCalculatetheamountthatmustbeinvestedat\\ntheendof10yearstohaveanaccumulatedvalueattheendof30yearsof\\n$1,000.\\nProblem10.24\\nCalculate\\nk\\nifadepositof1willaccumulateto2.7183in10yearsataforce\\nofinterestgivenby:\\n\\nt\\n=\\nË†\\nkt\\n0\\n&lt;t\\n\\n5\\n0\\n:\\n04\\nkt\\n2\\nt&gt;\\n5\\nProblem10.25\\nAdepositismadeonJanuary1,2004.Theinvestmentearnsinterestata\\nconstantforceofinterestof6%.\\nCalculatethemonthlyeinterestrateforthemonthofDecember2004.\\nProblem10.26\\nAfundearnsinterestataconstantforceofinterestof\\n:\\nKathyinvested\\n10,000inthefund.Twentytwoyearslater,Kathyhas30,042.Calculate\\n:\\nProblem10.27\\nAfundearnsinterestataforceofinterestof\\n\\nt\\n=\\nkt:\\nRyaninvests1,000at\\ntime\\nt\\n=0\\n:\\nAfter8years,Ryanhas1,896.50.Calculate\\nk:\\nProblem10.28\\nYouaregiventhat\\ni\\n(12)\\n=0\\n:\\n09\\n:\\nCalculate\\n:\\nProblem10.29\\nYouaregiventhat\\nd\\n(2)\\n=0\\n:\\n04\\n:\\nCalculate\\n:\\nProblem10.30\\nz\\nAttime0,depositsof10,000aremadeintoeachofFund\\nX\\nandFund\\nY:\\nFund\\nX\\naccumulatesatanannualeinterestrateof5%.Fund\\nY\\naccumulatesatasimpleinterestrateof8%.Attime\\nt;\\ntheforcesofinterest\\nonthetwofundsareequal.Attime\\nt;\\ntheaccumulatedvalueofFund\\nY\\nis\\ngreaterthantheaccumulatedvalueofFund\\nX\\nby\\nZ:\\nDetermine\\nZ:\\nProblem10.31\\nFindanexpressionforthefractionofaperiodatwhichtheexcessofpresent\\nvaluescomputedatsimplediscountovercompounddiscountisamaximum.\\nHint:SeeExample10.13.\\n</td>\n",
       "      <td>4</td>\n",
       "    </tr>\n",
       "    <tr>\n",
       "      <th>4</th>\n",
       "      <td>102\\nTHEBASICSOFINTERESTTHEORY\\nProblem10.32\\nConsiderthefollowingproblem:Invest1atacompoundinterest\\ni\\nforintegral\\nperiodsandatasimpleinterestforfractionalperiods.\\n(a)Showthat\\ni\\nk\\n=\\ni\\nfor\\nk\\n=1\\n;\\n2\\n;\\n\\n;n:\\n(b)Showthat\\n\\nt\\n1\\n6\\n=\\n\\nt\\n2\\nfor\\nk&lt;t\\n1\\n&lt;t\\n2\\n&lt;k\\n+1\\n;k\\n=1\\n;\\n2\\n;\\n\\nn\\n\\n1\\n:\\nThus,aconstanterateofinterest\\ni\\ndoesnotnecessarilyimplya\\nconstantforceofinterest.\\nProblem10.33\\nWhichofthefollowingaretrue?\\n(I)\\nd\\ndd\\n(\\ni\\n)=\\n\\n\\n2\\n(II)\\nd\\ndi\\n(\\ni\\n(\\nm\\n)\\n)=\\n\\n\\n(\\nm\\n\\n1\\nm\\n)\\n(III)\\nd\\n\\n(\\ni\\n)=1+\\ni:\\nProblem10.34\\nYouaregiventhat\\n\\nt\\n=\\n0\\n:\\n2\\nt\\n1+0\\n:\\n1\\nt\\n2\\n:\\nCalculate\\ni\\n2\\n:\\nProblem10.35\\nSimplifythefollowingexpression\\n\\nd\\n\\n\\n\\nd\\ndi\\nd\\n\\n:\\nProblem10.36\\nAninvestmentismadeinanaccountinwhichtheamountfunctionisgiven\\nby\\nA\\n(\\nt\\n)=\\nt\\n2\\n+\\nt\\n+2\\n:\\n25\\n;\\n0\\n\\nt\\n\\n4\\n:\\nComputetheratio\\ni\\n3\\n\\n2\\n:\\nProblem10.37\\nFund\\nA\\naccumulatesataforceofinterest\\n0\\n:\\n05\\n1+0\\n:\\n05\\nt\\nattime\\nt\\n\\n0\\n:\\nFund\\nB\\naccumulatesataforceofinterest0.05.Youaregiven\\nthattheamountinFund\\nA\\nattimezerois1,000,theamountinFund\\nB\\nat\\ntimezerois500,andthattheamountinFund\\nC\\natanytime\\nt\\nisequalto\\nthesumoftheamountinFund\\nA\\nandFund\\nB:\\nFund\\nC\\naccumulatesatforce\\nofinterest\\n\\nt\\n:\\nFind\\n\\n2\\n:\\nProblem10.38\\nShowthat\\nd\\ndt\\n\\nt\\n=\\nA\\n00\\n(\\nt\\n)\\nA\\n(\\nt\\n)\\n\\n\\n2\\nt\\n:\\n</td>\n",
       "      <td>5</td>\n",
       "    </tr>\n",
       "  </tbody>\n",
       "</table>\n",
       "</div>"
      ],
      "text/plain": [
       "                                                                                                                                                                                                                                                                                                                                                                                                                                                                                                                                                                                                                                                                                                                                                                                                                                                                                                                                                                                                                                                                                                                                                                                                                                                                                                                                                                                                                                                                                                                                                                                                                                                                                                                                                                                                                                                                                                                                   ChartText  \\\n",
       "0                                                                                                                                                                                                                                                                                                                                                                                                                                                                                                                                                                                                                                                                                                                                                                                                                                                                                                                                                                                                                                                                                                                                                                                                                                                                                                                                                                                                                                                                                                                                                                                                                                                                                                                               ABasicCourseintheTheoryofInterestand\\nDerivativesMarkets:\\nAPreparationfortheActuarialExamFM/2\\nMarcelB.Finan\\nArkansasTechUniversity\\nc\\n\\nAllRightsReserved\\nPreliminaryDraft\\nLastupdated\\nMarch24,2017\\n   \n",
       "1  10\\nTHEBASICSOFINTERESTTHEORY\\n1TheMeaningofInterest\\nToanalyzetransactions,aclearunderstandingoftheconceptof\\ninterestisrequired.Interestcanbeinavarietyofcontexts,suchas\\ntheonesfoundindictionariesandencyclopedias.Inthemostcommoncon-\\ntext,\\ninterest\\nisanamountchargedtoaborrowerfortheuseofthelender's\\nmoneyoveraperiodoftime.Forexample,ifyouhaveborrowed$100and\\nyoupromisedtopayback$105afteroneyearthenthelenderinthiscase\\nismakingaof$5,whichisthefeeforborrowinghismoney.Looking\\natthisfromthelender'sperspective,themoneythelenderisinvestingis\\nchangingvaluewithtimeduetotheinterestbeingadded.Forthatreason,\\ninterestissometimesreferredtoasthe\\ntimevalueofmoney.\\nInterestproblemsgenerallyinvolvefourquantities:principal(s),investment\\nperiodlength(s),interestrate(s),amountvalue(s).\\nThemoneyinvestedintransactionswillbereferredtoasthe\\nprin-\\ncipal\\n,denotedby\\nP:\\nTheamountithasgrowntowillbecalledthe\\namount\\nvalue\\nandwillbedenotedby\\nA:\\nTheerence\\nI\\n=\\nA\\n\\nP\\nisthe\\namount\\nofinterest\\nearnedduringtheperiodofinvestment.Interestexpressedasa\\npercentoftheprincipalwillbereferredtoasan\\ninterestrate.\\nInteresttakesintoaccounttheriskofdefault(riskthattheborrowercan't\\npaybacktheloan).Theriskofdefaultcanbereducediftheborrowers\\npromisetoreleaseanassetoftheirsintheeventoftheirdefault(theassetis\\ncalled\\ncollateral\\n).\\nTheunitinwhichtimeofinvestmentismeasurediscalledthe\\nmeasure-\\nmentperiod\\n.Themostcommonmeasurementperiodisoneyearbutmay\\nbelongerorshorter(couldbedays,months,years,decades,etc.).\\nExample1.1\\nWhichofthefollowingmaytheitionofinterest?\\n(a)TheamountIoweonmycreditcard.\\n(b)Theamountofcreditremainingonmycreditcard.\\n(c)Thecostofborrowingmoneyforsomeperiodoftime.\\n(d)Afeechargedonthemoneyyou'veearnedbytheFederalgovernment.\\nSolution.\\nTheansweris(c)\\nExample1.2\\nLet\\nA\\n(\\nt\\n)denotetheamountvalueofaninvestmentattime\\nt\\nyears.\\n   \n",
       "2                                                                                                                                                                                                                                                                                                                                                                                                100\\nTHEBASICSOFINTERESTTHEORY\\nProblem10.15\\nz\\nTawnymakesadepositintoabankaccountwhichcreditsinterestatanom-\\ninalinterestrateof10%perannum,convertiblesemiannually.Atthesame\\ntime,Fabiodeposits1,000intoatbankaccount,whichiscredited\\nwithsimpleinterest.Attheendof5years,theforcesofinterestonthetwo\\naccountsareequal,andFabio'saccounthasaccumulatedto\\nZ:\\nDetermine\\nZ:\\nProblem10.16\\nFund\\nA\\nearnsinterestatanominalrateofinterestof12%compounded\\nquarterly.Fund\\nB\\nearnsinterestataforceofinterest\\n:\\nJohninvested$1,000\\nineachfundeyearsago.Today,theamountinFund\\nA\\nisequaltothe\\namountinFund\\nB:\\nCalculate\\n:\\nProblem10.17\\nAfundearnsinterestataforceofinterestof\\n\\n=0\\n:\\n01\\nt:\\nCalculatethevalue\\nattheendof10yearsof8,000investedattheendof5years.\\nProblem10.18\\nAfundearnsinterestataforceofinterestof\\n\\n=0\\n:\\n01\\nt:\\nCalculatethee\\nrateofinterestinthe10thyear.\\nProblem10.19\\nCalculatethectiveannualinterestrateequivalenttoanominalrateof\\ndiscountof6%compoundedcontinuously.\\nProblem10.20\\nFund\\nA\\naccumulatesatasimpleinterestrateof10%.Find\\nB\\naccumulates\\natasimplediscountrateof5%.Findthepointintimeatwhichtheforceof\\ninterestonthetwofundsareequal.\\nProblem10.21\\nAninvestmentismadeforoneyearinafundwith\\na\\n(\\nt\\n)=\\na\\n+\\nbt\\n+\\nct\\n2\\n:\\nThenominalrateofinterestearnedduringthehalfoftheyearis5%\\nconvertiblesemi-annually.Theerateofinterestearnedfortheentire\\nyearis7%.Find\\n\\n0\\n:\\n5\\n:\\nProblem10.22\\nIf\\na\\n(\\nt\\n)=1+\\n:\\n01(\\nt\\n2\\n+\\nt\\n)\\n;\\ncalculate\\n\\n5\\n:\\n   \n",
       "3                                                                                                                                                                                                                                                                                                                                                                                                                               10FORCEOFINTEREST:CONTINUOUSCOMPOUNDING\\n101\\nProblem10.23\\nYouaregiventhat\\n\\n=0\\n:\\n05\\n:\\nCalculatetheamountthatmustbeinvestedat\\ntheendof10yearstohaveanaccumulatedvalueattheendof30yearsof\\n$1,000.\\nProblem10.24\\nCalculate\\nk\\nifadepositof1willaccumulateto2.7183in10yearsataforce\\nofinterestgivenby:\\n\\nt\\n=\\nË†\\nkt\\n0\\n<t\\n\\n5\\n0\\n:\\n04\\nkt\\n2\\nt>\\n5\\nProblem10.25\\nAdepositismadeonJanuary1,2004.Theinvestmentearnsinterestata\\nconstantforceofinterestof6%.\\nCalculatethemonthlyeinterestrateforthemonthofDecember2004.\\nProblem10.26\\nAfundearnsinterestataconstantforceofinterestof\\n:\\nKathyinvested\\n10,000inthefund.Twentytwoyearslater,Kathyhas30,042.Calculate\\n:\\nProblem10.27\\nAfundearnsinterestataforceofinterestof\\n\\nt\\n=\\nkt:\\nRyaninvests1,000at\\ntime\\nt\\n=0\\n:\\nAfter8years,Ryanhas1,896.50.Calculate\\nk:\\nProblem10.28\\nYouaregiventhat\\ni\\n(12)\\n=0\\n:\\n09\\n:\\nCalculate\\n:\\nProblem10.29\\nYouaregiventhat\\nd\\n(2)\\n=0\\n:\\n04\\n:\\nCalculate\\n:\\nProblem10.30\\nz\\nAttime0,depositsof10,000aremadeintoeachofFund\\nX\\nandFund\\nY:\\nFund\\nX\\naccumulatesatanannualeinterestrateof5%.Fund\\nY\\naccumulatesatasimpleinterestrateof8%.Attime\\nt;\\ntheforcesofinterest\\nonthetwofundsareequal.Attime\\nt;\\ntheaccumulatedvalueofFund\\nY\\nis\\ngreaterthantheaccumulatedvalueofFund\\nX\\nby\\nZ:\\nDetermine\\nZ:\\nProblem10.31\\nFindanexpressionforthefractionofaperiodatwhichtheexcessofpresent\\nvaluescomputedatsimplediscountovercompounddiscountisamaximum.\\nHint:SeeExample10.13.\\n   \n",
       "4                                                                                                                                                                                                                                                                                                                                                                                                                                                                                                                                   102\\nTHEBASICSOFINTERESTTHEORY\\nProblem10.32\\nConsiderthefollowingproblem:Invest1atacompoundinterest\\ni\\nforintegral\\nperiodsandatasimpleinterestforfractionalperiods.\\n(a)Showthat\\ni\\nk\\n=\\ni\\nfor\\nk\\n=1\\n;\\n2\\n;\\n\\n;n:\\n(b)Showthat\\n\\nt\\n1\\n6\\n=\\n\\nt\\n2\\nfor\\nk<t\\n1\\n<t\\n2\\n<k\\n+1\\n;k\\n=1\\n;\\n2\\n;\\n\\nn\\n\\n1\\n:\\nThus,aconstanterateofinterest\\ni\\ndoesnotnecessarilyimplya\\nconstantforceofinterest.\\nProblem10.33\\nWhichofthefollowingaretrue?\\n(I)\\nd\\ndd\\n(\\ni\\n)=\\n\\n\\n2\\n(II)\\nd\\ndi\\n(\\ni\\n(\\nm\\n)\\n)=\\n\\n\\n(\\nm\\n\\n1\\nm\\n)\\n(III)\\nd\\n\\n(\\ni\\n)=1+\\ni:\\nProblem10.34\\nYouaregiventhat\\n\\nt\\n=\\n0\\n:\\n2\\nt\\n1+0\\n:\\n1\\nt\\n2\\n:\\nCalculate\\ni\\n2\\n:\\nProblem10.35\\nSimplifythefollowingexpression\\n\\nd\\n\\n\\n\\nd\\ndi\\nd\\n\\n:\\nProblem10.36\\nAninvestmentismadeinanaccountinwhichtheamountfunctionisgiven\\nby\\nA\\n(\\nt\\n)=\\nt\\n2\\n+\\nt\\n+2\\n:\\n25\\n;\\n0\\n\\nt\\n\\n4\\n:\\nComputetheratio\\ni\\n3\\n\\n2\\n:\\nProblem10.37\\nFund\\nA\\naccumulatesataforceofinterest\\n0\\n:\\n05\\n1+0\\n:\\n05\\nt\\nattime\\nt\\n\\n0\\n:\\nFund\\nB\\naccumulatesataforceofinterest0.05.Youaregiven\\nthattheamountinFund\\nA\\nattimezerois1,000,theamountinFund\\nB\\nat\\ntimezerois500,andthattheamountinFund\\nC\\natanytime\\nt\\nisequalto\\nthesumoftheamountinFund\\nA\\nandFund\\nB:\\nFund\\nC\\naccumulatesatforce\\nofinterest\\n\\nt\\n:\\nFind\\n\\n2\\n:\\nProblem10.38\\nShowthat\\nd\\ndt\\n\\nt\\n=\\nA\\n00\\n(\\nt\\n)\\nA\\n(\\nt\\n)\\n\\n\\n2\\nt\\n:\\n   \n",
       "\n",
       "   Page  \n",
       "0     1  \n",
       "1     2  \n",
       "2     3  \n",
       "3     4  \n",
       "4     5  "
      ]
     },
     "execution_count": 20,
     "metadata": {},
     "output_type": "execute_result"
    }
   ],
   "source": [
    "\"\"\"The documentation for PyPDF2 is minimal. \n",
    "For this pattern, I followed the syntax at \n",
    "https://automatetheboringstuff.com/chapter13/ and\n",
    "https://github.com/msaxton/iliff_review/blob/master/code/atla_pdfConvert.py\n",
    "\"\"\"\n",
    "for filename in corpus:\n",
    "    # Open the PDF and load as PyPDF2 Reader object.\n",
    "    pdf = open(join(pdf_dir, \"Test.pdf\"),'rb')\n",
    "    pdfReader = PyPDF2.PdfFileReader(pdf)\n",
    "    \n",
    "    # Loop through the pages, extract the text, and write each page to individual file.\n",
    "    for page in range(0, pdfReader.numPages):\n",
    "        pageObj = pdfReader.getPage(page)\n",
    "        text = pageObj.extractText()\n",
    "        \n",
    "        # Compile the page name. Add one because Python counts from 0.\n",
    "        page_name = \"{}-pg{}.txt\".format(filename[:-4], page+1)\n",
    "\n",
    "        # Write to each page to file\n",
    "        with open(join(txt_dir, page_name), mode=\"w\", encoding='utf-8') as o:\n",
    "            o.write(text)\n",
    "            \n",
    "file_list = glob.glob(os.path.join(os.getcwd(), \"C:\\\\Users\\\\SJ\\\\Documents\\\\GitHub\\\\BIA 6304\\\\Project\\\\Processed\\\\\", \"*.txt\"))\n",
    "\n",
    "corpus = []\n",
    "\n",
    "for file_path in file_list:\n",
    "    with open(file_path) as f_input:\n",
    "        corpus.append(f_input.read())\n",
    "\n",
    "df = pd.DataFrame.from_dict(corpus)\n",
    "df.columns = ['ChartText']\n",
    "df['Page'] = df.index+1\n",
    "df.head(5)"
   ]
  },
  {
   "cell_type": "code",
   "execution_count": 16,
   "metadata": {},
   "outputs": [
    {
     "data": {
      "text/html": [
       "<div>\n",
       "<style>\n",
       "    .dataframe thead tr:only-child th {\n",
       "        text-align: right;\n",
       "    }\n",
       "\n",
       "    .dataframe thead th {\n",
       "        text-align: left;\n",
       "    }\n",
       "\n",
       "    .dataframe tbody tr th {\n",
       "        vertical-align: top;\n",
       "    }\n",
       "</style>\n",
       "<table border=\"1\" class=\"dataframe\">\n",
       "  <thead>\n",
       "    <tr style=\"text-align: right;\">\n",
       "      <th></th>\n",
       "      <th>index</th>\n",
       "      <th>ChartText</th>\n",
       "      <th>Page</th>\n",
       "    </tr>\n",
       "  </thead>\n",
       "  <tbody>\n",
       "    <tr>\n",
       "      <th>0</th>\n",
       "      <td>744</td>\n",
       "      <td>10FORCEOFINTEREST:CONTINUOUSCOMPOUNDING\\n99\\nProblem10.8\\nz\\nAttime\\nt\\n=0\\n;\\n1isdepositedintoeachofFund\\nX\\nandFund\\nY:\\nFund\\nX\\naccumulatesataforceofinterest\\n\\nt\\n=\\nt\\n2\\nk\\n:\\nFund\\nY\\naccumulatesatanominal\\nrateofdiscountof8%perannumconvertiblesemiannually.\\nAttime\\nt\\n=5\\n;\\ntheaccumulatedvalueofFund\\nX\\nequalstheaccumulated\\nvalueofFund\\nY:\\nDetermine\\nk:\\nProblem10.9\\nz\\nAttime0\\n;K\\nisdepositedintoFund\\nX;\\nwhichaccumulatesataforceofinter-\\nest\\n\\nt\\n=0\\n:\\n006\\nt\\n2\\n:\\nAttime\\nm;\\n2\\nK\\nisdepositedintoFund\\nY;\\nwhichaccumulates\\natanannualeinterestrateof10%.Attime\\nn;\\nwhere\\nn&gt;m;\\nthe\\naccumulatedvalueofeachfundis4\\nK:\\nDetermine\\nm:\\nProblem10.10\\nSuppose$2,000isinvestedfor3yearswithaconstantforceofinterestequal\\nto9%.\\n(a)Findtheaccumulationfunction.\\n(b)Findtheerateofinterest.\\n(c)Findthevalueoftheinvestmentafter3years.\\nProblem10.11\\nz\\nErniemakesdepositsof100attime0,and\\nX\\nattime3.Thefundgrowsat\\naforceofinterest\\n\\nt\\n=\\nt\\n2\\n100\\n;t&gt;\\n0\\n:\\nTheamountofinterestearnedfromtime\\n3totime6is\\nX:\\nCalculate\\nX:\\nProblem10.12\\nIftheforceofinterest\\n\\nis0.1,obtainthenominalrateofinterest(perannum)\\nondepositscompounded(a)monthly;(b)quarterly;(c)annually.\\nProblem10.13\\nTheforceofinterestdependsupontime,with\\n\\n(\\nt\\n)=\\n1\\n10(1+\\nt\\n)\\n;\\n0\\n\\nt\\n\\n4\\n:\\nFindtheaccumulatedamountafterfouryearsforaninitialinvestmentof\\n$1,000attimezero.\\nProblem10.14\\nTheforceofinterest\\n\\nisconstant.Thecorrespondingnominalrateofdis-\\ncountwheninterestiscompoundedp-thlyis\\nd\\n(\\np\\n)\\n:\\nExpress\\nd\\n(\\np\\n)\\nintermsof\\np:\\nShowthat\\nd\\n(\\np\\n)\\nisanincreasingfunctionof\\np:\\n</td>\n",
       "      <td>745</td>\n",
       "    </tr>\n",
       "  </tbody>\n",
       "</table>\n",
       "</div>"
      ],
      "text/plain": [
       "   index  \\\n",
       "0    744   \n",
       "\n",
       "                                                                                                                                                                                                                                                                                                                                                                                                                                                                                                                                                                                                                                                                                                                                                                                                                                                                                                                                                                                                                                                                                                                                                                                                                                                                                                                                                                                                                                                                                                                                                                                                                                                       ChartText  \\\n",
       "0  10FORCEOFINTEREST:CONTINUOUSCOMPOUNDING\\n99\\nProblem10.8\\nz\\nAttime\\nt\\n=0\\n;\\n1isdepositedintoeachofFund\\nX\\nandFund\\nY:\\nFund\\nX\\naccumulatesataforceofinterest\\n\\nt\\n=\\nt\\n2\\nk\\n:\\nFund\\nY\\naccumulatesatanominal\\nrateofdiscountof8%perannumconvertiblesemiannually.\\nAttime\\nt\\n=5\\n;\\ntheaccumulatedvalueofFund\\nX\\nequalstheaccumulated\\nvalueofFund\\nY:\\nDetermine\\nk:\\nProblem10.9\\nz\\nAttime0\\n;K\\nisdepositedintoFund\\nX;\\nwhichaccumulatesataforceofinter-\\nest\\n\\nt\\n=0\\n:\\n006\\nt\\n2\\n:\\nAttime\\nm;\\n2\\nK\\nisdepositedintoFund\\nY;\\nwhichaccumulates\\natanannualeinterestrateof10%.Attime\\nn;\\nwhere\\nn>m;\\nthe\\naccumulatedvalueofeachfundis4\\nK:\\nDetermine\\nm:\\nProblem10.10\\nSuppose$2,000isinvestedfor3yearswithaconstantforceofinterestequal\\nto9%.\\n(a)Findtheaccumulationfunction.\\n(b)Findtheerateofinterest.\\n(c)Findthevalueoftheinvestmentafter3years.\\nProblem10.11\\nz\\nErniemakesdepositsof100attime0,and\\nX\\nattime3.Thefundgrowsat\\naforceofinterest\\n\\nt\\n=\\nt\\n2\\n100\\n;t>\\n0\\n:\\nTheamountofinterestearnedfromtime\\n3totime6is\\nX:\\nCalculate\\nX:\\nProblem10.12\\nIftheforceofinterest\\n\\nis0.1,obtainthenominalrateofinterest(perannum)\\nondepositscompounded(a)monthly;(b)quarterly;(c)annually.\\nProblem10.13\\nTheforceofinterestdependsupontime,with\\n\\n(\\nt\\n)=\\n1\\n10(1+\\nt\\n)\\n;\\n0\\n\\nt\\n\\n4\\n:\\nFindtheaccumulatedamountafterfouryearsforaninitialinvestmentof\\n$1,000attimezero.\\nProblem10.14\\nTheforceofinterest\\n\\nisconstant.Thecorrespondingnominalrateofdis-\\ncountwheninterestiscompoundedp-thlyis\\nd\\n(\\np\\n)\\n:\\nExpress\\nd\\n(\\np\\n)\\nintermsof\\np:\\nShowthat\\nd\\n(\\np\\n)\\nisanincreasingfunctionof\\np:\\n   \n",
       "\n",
       "   Page  \n",
       "0   745  "
      ]
     },
     "execution_count": 16,
     "metadata": {},
     "output_type": "execute_result"
    }
   ],
   "source": [
    "# Connect to SQLlite database called A2.db\n",
    "conn = sqlite3.connect(\"db_Abstraction.db\")\n",
    "cur = conn.cursor()\n",
    "database='A2.db'\n",
    "# Write records stored in a DataFrame to a SQL database as Adult_NEW\n",
    "df.to_sql(\"df_NEW\", conn, if_exists=\"replace\")\n",
    "# Check for \"?\" in DataSet \n",
    "pd.read_sql_query(\"select * from df_NEW;\"   , conn)\n",
    "# Create DF for Adult_NEW\n",
    "df_NEW = pd.read_sql_query(\"select * from df_NEW where page = 745;\", conn)\n",
    "df_NEW "
   ]
  },
  {
   "cell_type": "code",
   "execution_count": null,
   "metadata": {
    "collapsed": true
   },
   "outputs": [],
   "source": [
    "# Connect to SQLlite database called A2.db\n",
    "conn = sqlite3.connect(\"A2.db\")\n",
    "cur = conn.cursor()\n",
    "database='A2.db'\n",
    "# Write records stored in a DataFrame to a SQL database as Adult_NEW\n",
    "Adult.to_sql(\"Adult_NEW\", conn, if_exists=\"replace\")\n",
    "# Check for \"?\" in DataSet \n",
    "pd.read_sql_query(\"select * from Adult_NEW where occupation like '%?%' OR workclass like '%?%';\"   , conn)\n",
    "# Updating rows with \"?\" for occupation and workclass with Unknown\n",
    "Values = 'Unknown'\n",
    "cur.execute(\"\"\"UPDATE Adult_NEW SET occupation = ? ,workclass = ?,'native-country' = ?\"\"\",\n",
    "  (Values,Values,Values))\n",
    "conn.commit()\n",
    "# Updating Target with Y >50K and N <=50K for income\n",
    "cur.execute(\"UPDATE Adult_NEW SET Income = 'Yes' WHERE Income like '%>50K%'\")\n",
    "cur.execute(\"UPDATE Adult_NEW SET Income = 'No' WHERE Income like '%<=50K%'\")\n",
    "conn.commit()\n",
    "# Create DF for Adult_NEW\n",
    "Adult_NEW = pd.read_sql_query(\"select * from Adult_NEW;\", conn)\n",
    "Adult_NEW \n",
    "print(Adult_NEW.describe)"
   ]
  },
  {
   "cell_type": "code",
   "execution_count": null,
   "metadata": {
    "collapsed": true
   },
   "outputs": [],
   "source": []
  },
  {
   "cell_type": "code",
   "execution_count": null,
   "metadata": {
    "collapsed": true
   },
   "outputs": [],
   "source": []
  },
  {
   "cell_type": "code",
   "execution_count": null,
   "metadata": {
    "collapsed": true
   },
   "outputs": [],
   "source": []
  },
  {
   "cell_type": "code",
   "execution_count": null,
   "metadata": {
    "collapsed": true
   },
   "outputs": [],
   "source": []
  },
  {
   "cell_type": "markdown",
   "metadata": {},
   "source": [
    "# Change working directory"
   ]
  },
  {
   "cell_type": "code",
   "execution_count": 2,
   "metadata": {},
   "outputs": [
    {
     "name": "stdout",
     "output_type": "stream",
     "text": [
      "O:\\library\\QM\\PHI11\\Dedicated\\Quality_Improvement\\Saad\\SDS Abstraction Study\\Raw\n"
     ]
    }
   ],
   "source": [
    "cd O:\\\\library\\\\QM\\\\PHI11\\\\Dedicated\\\\Quality_Improvement\\\\Saad\\\\SDS Abstraction Study\\\\Raw\\\\"
   ]
  },
  {
   "cell_type": "markdown",
   "metadata": {},
   "source": [
    "## Import the Combined Files"
   ]
  },
  {
   "cell_type": "code",
   "execution_count": 91,
   "metadata": {
    "collapsed": true
   },
   "outputs": [],
   "source": [
    "#open allows you to read the file\n",
    "pdfFileObj = open(\"CombinedFiles.pdf\",'rb')\n",
    "pdfReader = PyPDF2.PdfFileReader(pdfFileObj)\n",
    "\n",
    "num_pages = pdfReader.numPages\n",
    "count = 0\n",
    "text = \"\"\n",
    "#The while loop will read each page\n",
    "while count < num_pages:\n",
    "    pageObj = pdfReader.getPage(count)\n",
    "    count +=1\n",
    "    text += pageObj.extractText()\n",
    "#This if statement exists to check if the above library returned #words. It's done because PyPDF2 cannot read scanned files.\n",
    "    if text != \"\":\n",
    "       text = text\n",
    "#If the above returns as False, we run the OCR library textract to #convert scanned/image based PDF files into text\n",
    "    else:\n",
    "       text = textract.process(fileurl, method='tesseract', language='eng')\n",
    "# Now we have a text variable which contains all the text derived #from our PDF file. Type print(text) to see what it contains. It #likely contains a lot of spaces, possibly junk such as '\\n' etc.\n",
    "# Now, we will clean our text variable, and return it as a list of keywords."
   ]
  },
  {
   "cell_type": "code",
   "execution_count": 34,
   "metadata": {},
   "outputs": [
    {
     "name": "stdout",
     "output_type": "stream",
     "text": [
      "Member\n",
      "Name:SaadJanjua\n",
      "DOB:11/13/1990\n",
      "\n",
      "\n",
      "\n",
      "Hba1CTest\n",
      "5.8\n",
      "\n",
      "\n",
      "\n",
      "\n",
      "\n",
      "\n",
      "\n",
      "\n",
      "\n",
      "\n",
      "\n",
      "\n",
      "\n",
      "\n",
      "\n",
      "\n",
      "Member\n",
      "Name:JohnJanjua\n",
      "DOB:11/13/1992\n",
      "\n",
      "\n",
      "\n",
      "\n",
      "bhzdfbhzd\n",
      "\n",
      "bzdfr\n",
      "ndfxbndzxhbzdexhb\n",
      "nzfgbzfdxbvf\n",
      "bzxcfvbzd\n",
      "\n",
      "\n",
      "\n",
      "\n",
      "Hba1CTest\n",
      "6.0\n",
      "\n",
      "\n",
      "\n"
     ]
    }
   ],
   "source": [
    "print(text)"
   ]
  },
  {
   "cell_type": "code",
   "execution_count": 94,
   "metadata": {},
   "outputs": [
    {
     "ename": "ValueError",
     "evalue": "DataFrame constructor not properly called!",
     "output_type": "error",
     "traceback": [
      "\u001b[1;31m---------------------------------------------------------------------------\u001b[0m",
      "\u001b[1;31mValueError\u001b[0m                                Traceback (most recent call last)",
      "\u001b[1;32m<ipython-input-94-ee2593b8f2ac>\u001b[0m in \u001b[0;36m<module>\u001b[1;34m()\u001b[0m\n\u001b[0;32m      2\u001b[0m \u001b[1;33m\u001b[0m\u001b[0m\n\u001b[0;32m      3\u001b[0m \u001b[1;33m\u001b[0m\u001b[0m\n\u001b[1;32m----> 4\u001b[1;33m \u001b[0mdf\u001b[0m \u001b[1;33m=\u001b[0m \u001b[0mpd\u001b[0m\u001b[1;33m.\u001b[0m\u001b[0mDataFrame\u001b[0m\u001b[1;33m.\u001b[0m\u001b[0mfrom_dict\u001b[0m\u001b[1;33m(\u001b[0m\u001b[0mtext\u001b[0m\u001b[1;33m)\u001b[0m\u001b[1;33m\u001b[0m\u001b[0m\n\u001b[0m\u001b[0;32m      5\u001b[0m \u001b[0mdf\u001b[0m\u001b[1;33m.\u001b[0m\u001b[0mcolumns\u001b[0m \u001b[1;33m=\u001b[0m \u001b[1;33m[\u001b[0m\u001b[1;34m'ChartText'\u001b[0m\u001b[1;33m]\u001b[0m\u001b[1;33m\u001b[0m\u001b[0m\n\u001b[0;32m      6\u001b[0m \u001b[0mdf\u001b[0m\u001b[1;33m\u001b[0m\u001b[0m\n",
      "\u001b[1;32mC:\\Users\\SJ\\Anaconda3\\lib\\site-packages\\pandas\\core\\frame.py\u001b[0m in \u001b[0;36mfrom_dict\u001b[1;34m(cls, data, orient, dtype)\u001b[0m\n\u001b[0;32m    859\u001b[0m             \u001b[1;32mraise\u001b[0m \u001b[0mValueError\u001b[0m\u001b[1;33m(\u001b[0m\u001b[1;34m'only recognize index or columns for orient'\u001b[0m\u001b[1;33m)\u001b[0m\u001b[1;33m\u001b[0m\u001b[0m\n\u001b[0;32m    860\u001b[0m \u001b[1;33m\u001b[0m\u001b[0m\n\u001b[1;32m--> 861\u001b[1;33m         \u001b[1;32mreturn\u001b[0m \u001b[0mcls\u001b[0m\u001b[1;33m(\u001b[0m\u001b[0mdata\u001b[0m\u001b[1;33m,\u001b[0m \u001b[0mindex\u001b[0m\u001b[1;33m=\u001b[0m\u001b[0mindex\u001b[0m\u001b[1;33m,\u001b[0m \u001b[0mcolumns\u001b[0m\u001b[1;33m=\u001b[0m\u001b[0mcolumns\u001b[0m\u001b[1;33m,\u001b[0m \u001b[0mdtype\u001b[0m\u001b[1;33m=\u001b[0m\u001b[0mdtype\u001b[0m\u001b[1;33m)\u001b[0m\u001b[1;33m\u001b[0m\u001b[0m\n\u001b[0m\u001b[0;32m    862\u001b[0m \u001b[1;33m\u001b[0m\u001b[0m\n\u001b[0;32m    863\u001b[0m     \u001b[1;32mdef\u001b[0m \u001b[0mto_dict\u001b[0m\u001b[1;33m(\u001b[0m\u001b[0mself\u001b[0m\u001b[1;33m,\u001b[0m \u001b[0morient\u001b[0m\u001b[1;33m=\u001b[0m\u001b[1;34m'dict'\u001b[0m\u001b[1;33m)\u001b[0m\u001b[1;33m:\u001b[0m\u001b[1;33m\u001b[0m\u001b[0m\n",
      "\u001b[1;32mC:\\Users\\SJ\\Anaconda3\\lib\\site-packages\\pandas\\core\\frame.py\u001b[0m in \u001b[0;36m__init__\u001b[1;34m(self, data, index, columns, dtype, copy)\u001b[0m\n\u001b[0;32m    352\u001b[0m                                          copy=False)\n\u001b[0;32m    353\u001b[0m             \u001b[1;32melse\u001b[0m\u001b[1;33m:\u001b[0m\u001b[1;33m\u001b[0m\u001b[0m\n\u001b[1;32m--> 354\u001b[1;33m                 \u001b[1;32mraise\u001b[0m \u001b[0mValueError\u001b[0m\u001b[1;33m(\u001b[0m\u001b[1;34m'DataFrame constructor not properly called!'\u001b[0m\u001b[1;33m)\u001b[0m\u001b[1;33m\u001b[0m\u001b[0m\n\u001b[0m\u001b[0;32m    355\u001b[0m \u001b[1;33m\u001b[0m\u001b[0m\n\u001b[0;32m    356\u001b[0m         \u001b[0mNDFrame\u001b[0m\u001b[1;33m.\u001b[0m\u001b[0m__init__\u001b[0m\u001b[1;33m(\u001b[0m\u001b[0mself\u001b[0m\u001b[1;33m,\u001b[0m \u001b[0mmgr\u001b[0m\u001b[1;33m,\u001b[0m \u001b[0mfastpath\u001b[0m\u001b[1;33m=\u001b[0m\u001b[1;32mTrue\u001b[0m\u001b[1;33m)\u001b[0m\u001b[1;33m\u001b[0m\u001b[0m\n",
      "\u001b[1;31mValueError\u001b[0m: DataFrame constructor not properly called!"
     ]
    }
   ],
   "source": [
    "\n",
    "import glob\n",
    "import os\n",
    "\n",
    "file_list = glob.glob(os.path.join(os.getcwd(), \"C:\\\\Users\\\\SJ\\\\Documents\\\\GitHub\\\\BIA 6304\\\\Project\\\\Processed\\\\\", \"*.txt\"))\n",
    "\n",
    "corpus = []\n",
    "\n",
    "for file_path in file_list:\n",
    "    with open(file_path) as f_input:\n",
    "        corpus.append(f_input.read())\n",
    "\n",
    "df = pd.DataFrame.from_dict(corpus)\n",
    "df.columns = ['ChartText']\n",
    "df"
   ]
  },
  {
   "cell_type": "code",
   "execution_count": null,
   "metadata": {
    "collapsed": true
   },
   "outputs": [],
   "source": []
  },
  {
   "cell_type": "code",
   "execution_count": null,
   "metadata": {
    "collapsed": true
   },
   "outputs": [],
   "source": []
  },
  {
   "cell_type": "code",
   "execution_count": null,
   "metadata": {
    "collapsed": true
   },
   "outputs": [],
   "source": []
  },
  {
   "cell_type": "code",
   "execution_count": null,
   "metadata": {
    "collapsed": true
   },
   "outputs": [],
   "source": []
  },
  {
   "cell_type": "code",
   "execution_count": null,
   "metadata": {
    "collapsed": true
   },
   "outputs": [],
   "source": []
  },
  {
   "cell_type": "markdown",
   "metadata": {},
   "source": [
    "# Create a Corpus"
   ]
  },
  {
   "cell_type": "code",
   "execution_count": 93,
   "metadata": {},
   "outputs": [
    {
     "data": {
      "text/plain": [
       "<_io.StringIO at 0x6a6ed38>"
      ]
     },
     "execution_count": 93,
     "metadata": {},
     "output_type": "execute_result"
    }
   ],
   "source": [
    "#Create a Dataframe\n",
    "import sys\n",
    "if sys.version_info[0] < 3: \n",
    "    from StringIO import StringIO\n",
    "else:\n",
    "    from io import StringIO\n",
    "# Create a string set\n",
    "df=StringIO(text)\n"
   ]
  },
  {
   "cell_type": "code",
   "execution_count": 189,
   "metadata": {},
   "outputs": [
    {
     "name": "stdout",
     "output_type": "stream",
     "text": [
      "0\n",
      "0\n",
      "0\n"
     ]
    },
    {
     "ename": "ValueError",
     "evalue": "substring not found",
     "output_type": "error",
     "traceback": [
      "\u001b[0;31m---------------------------------------------------------------------------\u001b[0m",
      "\u001b[0;31mValueError\u001b[0m                                Traceback (most recent call last)",
      "\u001b[0;32m<ipython-input-189-fb5b71b70d15>\u001b[0m in \u001b[0;36m<module>\u001b[0;34m()\u001b[0m\n\u001b[1;32m      2\u001b[0m \u001b[0mprint\u001b[0m\u001b[1;33m(\u001b[0m\u001b[0mtext\u001b[0m\u001b[1;33m.\u001b[0m\u001b[0mcount\u001b[0m\u001b[1;33m(\u001b[0m\u001b[1;34m'Hemoglobin'\u001b[0m\u001b[1;33m)\u001b[0m\u001b[1;33m)\u001b[0m\u001b[1;33m\u001b[0m\u001b[0m\n\u001b[1;32m      3\u001b[0m \u001b[0mprint\u001b[0m\u001b[1;33m(\u001b[0m\u001b[0mtext\u001b[0m\u001b[1;33m.\u001b[0m\u001b[0mcount\u001b[0m\u001b[1;33m(\u001b[0m\u001b[1;34m'Hemoglobin A1C'\u001b[0m\u001b[1;33m)\u001b[0m\u001b[1;33m)\u001b[0m\u001b[1;33m\u001b[0m\u001b[0m\n\u001b[0;32m----> 4\u001b[0;31m \u001b[0mprint\u001b[0m\u001b[1;33m(\u001b[0m\u001b[0mtext\u001b[0m\u001b[1;33m.\u001b[0m\u001b[0mindex\u001b[0m\u001b[1;33m(\u001b[0m\u001b[1;34m'Hemoglobin'\u001b[0m\u001b[1;33m)\u001b[0m\u001b[1;33m)\u001b[0m \u001b[1;31m# first occurance\u001b[0m\u001b[1;33m\u001b[0m\u001b[0m\n\u001b[0m",
      "\u001b[0;31mValueError\u001b[0m: substring not found"
     ]
    }
   ],
   "source": [
    "print(text.count('smoke'))\n",
    "print(text.count('Hemoglobin'))\n",
    "print(text.count('Hemoglobin A1C'))\n",
    "print(text.index('Hemoglobin')) # first occurance"
   ]
  },
  {
   "cell_type": "code",
   "execution_count": 190,
   "metadata": {},
   "outputs": [
    {
     "name": "stdout",
     "output_type": "stream",
     "text": [
      "Diagnostic Imaging 3/20/2015 8:55:07 AM PAGE 1/001 Fax Server Electronically Signed By Moretina, Jcnn irer 0312012015 09:40: 53 AM DIAGNOSTIC, IlvtAGING CENTERS, P.A, Edv..r..'vI HBfllliln MO, FACR'jcr,lItler H C/EJ!vey, M Nao, MD, FACR'Nca' K LUlz. MD Llnd<J A H<JfflSOf), MO·eil!nciil A McGhie. MC'$w!l,I Sllo:r, MO' Ja1118j' tl. HiEllmu.;, MD'Gleqory C Reulel. MD Jail!; A. SD\"adi()o. Me;' Sld.'r-JY A. Crawe)\" MD· Jeffl ey F Bretl/, MD'WIIIf[)m C KOJry, MD DR JENNIFER L MORETINA 2609 GLENN HENDREN DRM: LIBERTY, MO 64068 DATE: 3(2012015 B:43:00AM NAME: JANET HARGARTEN NORTH ole LOCATION DOB: 09/2211961 ACC#: 4857685 DIGITAL MAIoJH,/OGRAlvl -SCREENING BILATERAL -I :-CHNIQUE MLO/CC -leA 0 Secord Look 7. 2-H p:Jstprocessing INDICATION' Screening examinalion. COMPARISON 09/07/2005,01/08/2013,0110912014 MR#: 00058B384 FINDINGS. Th::.c are sCClltered of fibroglandLCir denslly. No suspiCIOUS ,ass, calcification or arc litectural distortion IS IMPRESSION: No mamn-q)raphic of malignancy, 81-RADS Ca'iegory 1. M.A.'IAGE v'lEN r: Routme Wll1Lrdl screening \"iClmmog'Clphy, esulls communicated to the patient at exam completion Dictated By: ANGELA !VI NOTO, \\10 lectronica y Signed lJy: ANGELA WI I\\,/OTO, M,J 3120/2015 8.55:00AM N a me: Hargarterl, Jarlet OUf facilities are accredited by the American College of Rod iology mammograpllY prog ram, 4(;11 S {'Holo,lleao Or. Suile 100 Ł lI)Cepelloonc,\",. MO ' 816-795 7040 ')01 NE Mula\",,,. SlIIle '00' Sl omil. MO 5500·5520 Cr,lle(lc vd' (N erlan() Pilrk. I\\S 6621' , 313-49 13795 S Mur-Len Rd. Suile 100 -0 alhe. KS Ł ;13·397-7272 5400 Non\" Ł Norlh i<.\"5bS City _ MO 64116 -4a'Jl Mail\\ Suite 200' hansas Cilt, Scheduling; 913.344-9989' 816-444-9989 008: 09/22/1961 oi 1 Date: Comments: \n"
     ]
    }
   ],
   "source": [
    "print(text)"
   ]
  },
  {
   "cell_type": "code",
   "execution_count": null,
   "metadata": {
    "collapsed": true
   },
   "outputs": [],
   "source": []
  },
  {
   "cell_type": "code",
   "execution_count": 98,
   "metadata": {
    "collapsed": true
   },
   "outputs": [],
   "source": [
    "'''\n",
    "This module converts PDF files from ATLASerials into plain text files. An important part of\n",
    "this process is striping out the ATLA statment at the end of the PDF. In addition PyPDF tends\n",
    "to read an - as Š;\n",
    "'''\n",
    "\n",
    "import PyPDF2\n",
    "import re\n",
    "import os\n",
    "\n",
    "in_path = \"C:\\\\Users\\\\SJ\\\\Documents\\\\GitHub\\\\BIA 6304\\\\Project\\\\Raw\\\\\"\n",
    "out_path = \"C:\\\\Users\\\\SJ\\\\Documents\\\\GitHub\\\\BIA 6304\\\\Project\\\\Processed\\\\\"\n",
    "\n",
    "\n",
    "def make_file_name(fileid):\n",
    "    file_name = fileid[0:-4]\n",
    "    return file_name\n",
    "\n",
    "def clean_text(string_obj):\n",
    "    clean_text = re.sub(\"Š\", \"-\", string_obj)\n",
    "    clean_text = re.sub(\"¿|¡|£|^|`|«\", \"\", clean_text)\n",
    "    clean_text = re.sub(\"Á|Â|Ã|Ä|Å|à|á|â|ã|ä|å\", \"a\", clean_text)\n",
    "    clean_text = re.sub(\"È|É|Ê|Ë|è|é|ê|ë\", \"e\", clean_text)\n",
    "    clean_text = re.sub(\"Ì|Í|Î|Ï|ì|í|î|ï\", \"i\", clean_text)\n",
    "    clean_text = re.sub(\"Ò|Ó|Ô|Õ|Ö|Ø|ò|ó|ô|õ|ö|ø\", \"o\", clean_text)\n",
    "    clean_text = re.sub(\"Ù|Ú|Û|Ü|ù|ú|û|ü\", \"u\", clean_text)\n",
    "    clean_text = re.sub(\"Ý|ý|ÿ\", \"y\", clean_text)\n",
    "    return clean_text\n",
    "\n",
    "def ATLASpdf_to_text(out_path, file_name):\n",
    "    pdf_pages = []\n",
    "    pdfObj = open(in_path + fileid, 'rb')\n",
    "    pdfReader = PyPDF2.PdfFileReader(pdfObj)\n",
    "    page_length = pdfReader.numPages\n",
    "\n",
    "    for i in range(0, (page_length-1)):\n",
    "        pageObj = pdfReader.getPage(i)\n",
    "        text = pageObj.extractText()\n",
    "        pdf_pages.append(text)\n",
    "    \n",
    "    pdf_string = ' '.join(pdf_pages) #join with space not new line\n",
    "    eol_string = \"\\r\\n\"\n",
    "\n",
    "    pdf_string = pdf_string+eol_string # add EOL character to avoid later warnings\n",
    "\n",
    "    final_string = clean_text(pdf_string)\n",
    "\n",
    "    with open(out_path + file_name + '.txt', mode='w', encoding='utf-8') as f:\n",
    "        f.write(final_string)\n",
    "        \n",
    "for fileid in os.listdir(in_path):\n",
    "    if fileid.endswith('.pdf'):\n",
    "        file_name = make_file_name(fileid)\n",
    "        ATLASpdf_to_text(out_path, file_name)\n",
    "\n",
    "        \n"
   ]
  },
  {
   "cell_type": "code",
   "execution_count": 101,
   "metadata": {},
   "outputs": [
    {
     "ename": "NameError",
     "evalue": "name 'pdf_string' is not defined",
     "output_type": "error",
     "traceback": [
      "\u001b[1;31m---------------------------------------------------------------------------\u001b[0m",
      "\u001b[1;31mNameError\u001b[0m                                 Traceback (most recent call last)",
      "\u001b[1;32m<ipython-input-101-f0b88e0ef690>\u001b[0m in \u001b[0;36m<module>\u001b[1;34m()\u001b[0m\n\u001b[1;32m----> 1\u001b[1;33m \u001b[0mprint\u001b[0m\u001b[1;33m(\u001b[0m\u001b[0mpdf_string\u001b[0m\u001b[1;33m)\u001b[0m\u001b[1;33m\u001b[0m\u001b[0m\n\u001b[0m",
      "\u001b[1;31mNameError\u001b[0m: name 'pdf_string' is not defined"
     ]
    }
   ],
   "source": [
    "print(pdf_string)"
   ]
  },
  {
   "cell_type": "code",
   "execution_count": null,
   "metadata": {
    "collapsed": true
   },
   "outputs": [],
   "source": []
  },
  {
   "cell_type": "code",
   "execution_count": null,
   "metadata": {
    "collapsed": true
   },
   "outputs": [],
   "source": []
  },
  {
   "cell_type": "code",
   "execution_count": null,
   "metadata": {
    "collapsed": true
   },
   "outputs": [],
   "source": []
  },
  {
   "cell_type": "code",
   "execution_count": null,
   "metadata": {
    "collapsed": true
   },
   "outputs": [],
   "source": [
    "##### New Solution"
   ]
  },
  {
   "cell_type": "code",
   "execution_count": 192,
   "metadata": {
    "collapsed": true
   },
   "outputs": [],
   "source": [
    "from PyPDF2 import PdfFileReader, PdfFileWriter\n",
    "\n",
    "with open(\"CombinedFiles.pdf\", 'rb') as infile:\n",
    "\n",
    "    reader = PdfFileReader(infile)\n",
    "    writer = PdfFileWriter()\n",
    "    writer.addPage(reader.getPage(0))\n",
    "\n",
    "    with open('output.pdf', 'wb') as outfile:\n",
    "        writer.write(outfile)"
   ]
  },
  {
   "cell_type": "code",
   "execution_count": null,
   "metadata": {
    "collapsed": true
   },
   "outputs": [],
   "source": [
    "### Solution 3"
   ]
  },
  {
   "cell_type": "code",
   "execution_count": null,
   "metadata": {
    "collapsed": true
   },
   "outputs": [],
   "source": []
  },
  {
   "cell_type": "code",
   "execution_count": null,
   "metadata": {
    "collapsed": true
   },
   "outputs": [],
   "source": []
  },
  {
   "cell_type": "code",
   "execution_count": null,
   "metadata": {
    "collapsed": true
   },
   "outputs": [],
   "source": []
  },
  {
   "cell_type": "code",
   "execution_count": null,
   "metadata": {
    "collapsed": true
   },
   "outputs": [],
   "source": []
  },
  {
   "cell_type": "code",
   "execution_count": null,
   "metadata": {
    "collapsed": true
   },
   "outputs": [],
   "source": []
  },
  {
   "cell_type": "code",
   "execution_count": null,
   "metadata": {
    "collapsed": true
   },
   "outputs": [],
   "source": []
  },
  {
   "cell_type": "code",
   "execution_count": null,
   "metadata": {
    "collapsed": true
   },
   "outputs": [],
   "source": []
  },
  {
   "cell_type": "code",
   "execution_count": null,
   "metadata": {
    "collapsed": true
   },
   "outputs": [],
   "source": []
  },
  {
   "cell_type": "code",
   "execution_count": null,
   "metadata": {
    "collapsed": true
   },
   "outputs": [],
   "source": []
  },
  {
   "cell_type": "code",
   "execution_count": null,
   "metadata": {
    "collapsed": true
   },
   "outputs": [],
   "source": []
  },
  {
   "cell_type": "code",
   "execution_count": null,
   "metadata": {
    "collapsed": true
   },
   "outputs": [],
   "source": []
  },
  {
   "cell_type": "code",
   "execution_count": null,
   "metadata": {
    "collapsed": true
   },
   "outputs": [],
   "source": []
  }
 ],
 "metadata": {
  "anaconda-cloud": {},
  "kernelspec": {
   "display_name": "Python 3",
   "language": "python",
   "name": "python3"
  },
  "language_info": {
   "codemirror_mode": {
    "name": "ipython",
    "version": 3
   },
   "file_extension": ".py",
   "mimetype": "text/x-python",
   "name": "python",
   "nbconvert_exporter": "python",
   "pygments_lexer": "ipython3",
   "version": "3.6.1"
  }
 },
 "nbformat": 4,
 "nbformat_minor": 1
}
